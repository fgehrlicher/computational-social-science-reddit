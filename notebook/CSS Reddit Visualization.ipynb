{
 "cells": [
  {
   "cell_type": "code",
   "execution_count": 1,
   "metadata": {
    "scrolled": true
   },
   "outputs": [],
   "source": [
    "import pandas\n",
    "import json\n",
    "import copy\n",
    "from ipywidgets import interact\n",
    "pandas.set_option('display.max_rows', None)\n",
    "\n",
    "config = json.load(open(\"../config.json\", newline='\\n'))\n",
    "\n",
    "result = pandas.read_json(\"../result.json\")\n",
    "\n",
    "result_right = result[\"right\"]\n",
    "result_right_total = result_right[\"all\"]\n",
    "right_subs = config[\"sub_groups\"][\"right\"]\n",
    "total_right_author_count = result_right_total[0]\n",
    "total_right_comment_count = result_right_total[1]\n",
    "\n",
    "result_left = result[\"left\"]\n",
    "result_left_total = result_left[\"all\"]\n",
    "left_subs = config[\"sub_groups\"][\"left\"]\n",
    "total_left_author_count = result_left_total[0]\n",
    "total_left_comment_count = result_left_total[1]\n",
    "\n",
    "raw_comments_per_sub = {\n",
    "    \"subreddit\": [],\n",
    "    \"author_count\": [],\n",
    "    \"comment_count\": [],\n",
    "    \"author_percentage\": [],\n",
    "    \"comment_percentage\": [],\n",
    "}"
   ]
  },
  {
   "cell_type": "code",
   "execution_count": 2,
   "metadata": {},
   "outputs": [
    {
     "data": {
      "text/html": [
       "<div>\n",
       "<style scoped>\n",
       "    .dataframe tbody tr th:only-of-type {\n",
       "        vertical-align: middle;\n",
       "    }\n",
       "\n",
       "    .dataframe tbody tr th {\n",
       "        vertical-align: top;\n",
       "    }\n",
       "\n",
       "    .dataframe thead th {\n",
       "        text-align: right;\n",
       "    }\n",
       "</style>\n",
       "<table border=\"1\" class=\"dataframe\">\n",
       "  <thead>\n",
       "    <tr style=\"text-align: right;\">\n",
       "      <th></th>\n",
       "      <th>right</th>\n",
       "      <th>left</th>\n",
       "    </tr>\n",
       "  </thead>\n",
       "  <tbody>\n",
       "    <tr>\n",
       "      <th>all</th>\n",
       "      <td>[2228, 2819355]</td>\n",
       "      <td>[35587, 22383062]</td>\n",
       "    </tr>\n",
       "    <tr>\n",
       "      <th>100yearsago</th>\n",
       "      <td>[7, 65]</td>\n",
       "      <td>[86, 534]</td>\n",
       "    </tr>\n",
       "    <tr>\n",
       "      <th>1200isplenty</th>\n",
       "      <td>[11, 29]</td>\n",
       "      <td>[114, 534]</td>\n",
       "    </tr>\n",
       "    <tr>\n",
       "      <th>1911</th>\n",
       "      <td>[8, 40]</td>\n",
       "      <td>[70, 432]</td>\n",
       "    </tr>\n",
       "    <tr>\n",
       "      <th>195</th>\n",
       "      <td>[7, 21]</td>\n",
       "      <td>[66, 186]</td>\n",
       "    </tr>\n",
       "    <tr>\n",
       "      <th>1970s</th>\n",
       "      <td>[1, 1]</td>\n",
       "      <td>[1, 1]</td>\n",
       "    </tr>\n",
       "    <tr>\n",
       "      <th>2007scape</th>\n",
       "      <td>[20, 3649]</td>\n",
       "      <td>[260, 9788]</td>\n",
       "    </tr>\n",
       "    <tr>\n",
       "      <th>2spooky4me</th>\n",
       "      <td>[2, 8]</td>\n",
       "      <td>[16, 44]</td>\n",
       "    </tr>\n",
       "    <tr>\n",
       "      <th>3DS</th>\n",
       "      <td>[29, 805]</td>\n",
       "      <td>[551, 6616]</td>\n",
       "    </tr>\n",
       "    <tr>\n",
       "      <th>3Dprinting</th>\n",
       "      <td>[23, 85]</td>\n",
       "      <td>[324, 3835]</td>\n",
       "    </tr>\n",
       "  </tbody>\n",
       "</table>\n",
       "</div>"
      ],
      "text/plain": [
       "                        right               left\n",
       "all           [2228, 2819355]  [35587, 22383062]\n",
       "100yearsago           [7, 65]          [86, 534]\n",
       "1200isplenty         [11, 29]         [114, 534]\n",
       "1911                  [8, 40]          [70, 432]\n",
       "195                   [7, 21]          [66, 186]\n",
       "1970s                  [1, 1]             [1, 1]\n",
       "2007scape          [20, 3649]        [260, 9788]\n",
       "2spooky4me             [2, 8]           [16, 44]\n",
       "3DS                 [29, 805]        [551, 6616]\n",
       "3Dprinting           [23, 85]        [324, 3835]"
      ]
     },
     "execution_count": 2,
     "metadata": {},
     "output_type": "execute_result"
    }
   ],
   "source": [
    "result.head(10)"
   ]
  },
  {
   "cell_type": "code",
   "execution_count": 3,
   "metadata": {
    "scrolled": true
   },
   "outputs": [
    {
     "name": "stdout",
     "output_type": "stream",
     "text": [
      "Conservative    [2064, 64630]\n",
      "Republican        [505, 6627]\n",
      "The_Donald            [6, 34]\n",
      "donaldtrump               NaN\n"
     ]
    }
   ],
   "source": [
    "result_right_in_right_subs = result_right[result_right.index.isin(right_subs)]\n",
    "print(result_right_in_right_subs.to_string())"
   ]
  },
  {
   "cell_type": "code",
   "execution_count": 4,
   "metadata": {
    "scrolled": true
   },
   "outputs": [
    {
     "name": "stdout",
     "output_type": "stream",
     "text": [
      "Liberal                    [1133, 9042]\n",
      "SandersForPresident      [9557, 168583]\n",
      "democrats                   [724, 6854]\n",
      "politics               [32564, 1114634]\n",
      "progressive               [1680, 13755]\n",
      "socialism                 [2812, 72726]\n",
      "JoeBiden                         [1, 1]\n"
     ]
    }
   ],
   "source": [
    "result_left_in_left_subs = result_left[result_left.index.isin(left_subs)]\n",
    "print(result_left_in_left_subs.to_string())"
   ]
  },
  {
   "cell_type": "code",
   "execution_count": 5,
   "metadata": {},
   "outputs": [
    {
     "name": "stdout",
     "output_type": "stream",
     "text": [
      "total left comments in left subs by relevant left authors : 1385595\n",
      "total left comments in other subs by relevant left authors: 20997467\n",
      "total right comments in right subs by relevant right authors: 71291\n",
      "total right comments in other subs by relevant right authors: 2748064\n"
     ]
    }
   ],
   "source": [
    "total_comments_left_in_left_subs = 0\n",
    "for sub, sub_author_tuple in result_left_in_left_subs.items():\n",
    "    if type(sub_author_tuple) is not list:\n",
    "        continue\n",
    "    total_comments_left_in_left_subs += sub_author_tuple[1]\n",
    "\n",
    "total_comments_right_in_right_subs = 0\n",
    "for sub, sub_author_tuple in result_right_in_right_subs.items():\n",
    "    if type(sub_author_tuple) is not list:\n",
    "        continue\n",
    "    total_comments_right_in_right_subs += sub_author_tuple[1]\n",
    "    \n",
    "total_comments_right_in_other_subs = result_right[\"all\"][1] - total_comments_right_in_right_subs\n",
    "total_comments_left_in_other_subs = result_left[\"all\"][1] - total_comments_left_in_left_subs\n",
    "\n",
    "print(f\"total left comments in left subs by relevant left authors : {total_comments_left_in_left_subs}\")\n",
    "print(f\"total left comments in other subs by relevant left authors: {total_comments_left_in_other_subs}\")\n",
    "\n",
    "print(f\"total right comments in right subs by relevant right authors: {total_comments_right_in_right_subs}\")\n",
    "print(f\"total right comments in other subs by relevant right authors: {total_comments_right_in_other_subs}\")"
   ]
  },
  {
   "cell_type": "code",
   "execution_count": 6,
   "metadata": {},
   "outputs": [
    {
     "data": {
      "text/plain": [
       "Text(0.5, 1.0, 'Comments by relevant left authors')"
      ]
     },
     "execution_count": 6,
     "metadata": {},
     "output_type": "execute_result"
    },
    {
     "data": {
      "image/png": "[encoded data removed]",
      "text/plain": [
       "<Figure size 432x288 with 1 Axes>"
      ]
     },
     "metadata": {},
     "output_type": "display_data"
    },
    {
     "data": {
      "image/png": "[encoded data removed]",
      "text/plain": [
       "<Figure size 432x288 with 1 Axes>"
      ]
     },
     "metadata": {},
     "output_type": "display_data"
    }
   ],
   "source": [
    "import matplotlib.pyplot as plt\n",
    "\n",
    "labels = ['Right Subs', 'Other Subs']\n",
    "sizes = [total_comments_right_in_right_subs, total_comments_right_in_other_subs]\n",
    "fig, ax = plt.subplots()\n",
    "ax.axis('equal')\n",
    "ax.pie(sizes, labels=labels, autopct='%1.1f%%')  \n",
    "ax.set_title('Comments by relevant right authors')\n",
    "\n",
    "labels = ['Left Subs', 'Other Subs']\n",
    "sizes = [total_comments_left_in_left_subs, total_comments_left_in_other_subs]\n",
    "fig, ax = plt.subplots()\n",
    "ax.axis('equal')\n",
    "ax.pie(sizes, labels=labels, autopct='%1.1f%%')  \n",
    "ax.set_title('Comments by relevant left authors')"
   ]
  },
  {
   "cell_type": "code",
   "execution_count": 7,
   "metadata": {
    "scrolled": false
   },
   "outputs": [
    {
     "data": {
      "application/vnd.jupyter.widget-view+json": {
       "model_id": "906eeacba2d74c55aa887d817946d9bf",
       "version_major": 2,
       "version_minor": 0
      },
      "text/plain": [
       "interactive(children=(Dropdown(description='column', options=('author_percentage', 'comment_percentage'), valu…"
      ]
     },
     "metadata": {},
     "output_type": "display_data"
    }
   ],
   "source": [
    "raw_left_comments_per_sub = copy.deepcopy(raw_comments_per_sub)\n",
    "\n",
    "for sub, sub_author_tuple in result_left.items():\n",
    "    if type(sub_author_tuple) is not list or sub == \"all\":\n",
    "        continue\n",
    "    raw_left_comments_per_sub[\"subreddit\"].append(sub)\n",
    "    raw_left_comments_per_sub[\"author_count\"].append(sub_author_tuple[0])\n",
    "    raw_left_comments_per_sub[\"comment_count\"].append(sub_author_tuple[1])\n",
    "    raw_left_comments_per_sub[\"author_percentage\"].append(float(\"{:.2f}\".format(sub_author_tuple[0] / total_left_author_count * 100)))\n",
    "    raw_left_comments_per_sub[\"comment_percentage\"].append(float(\"{:.2f}\".format(sub_author_tuple[1] / total_left_comment_count * 100)))\n",
    "\n",
    "columns = ['subreddit', 'author_percentage', 'comment_percentage', 'author_count', 'comment_count']\n",
    "left_comments_per_sub = pandas.DataFrame(\n",
    "    raw_left_comments_per_sub,\n",
    "    columns=columns\n",
    ")\n",
    "\n",
    "columns = ['author_percentage', 'comment_percentage']\n",
    "@interact\n",
    "def sort(column=columns, order={\"ascending\": True, \"descending\": False}, x=(5, 50, 1)):\n",
    "    return left_comments_per_sub.sort_values(\n",
    "        ascending=order,\n",
    "        by=column\n",
    "    ).head(x).reset_index(drop=True)"
   ]
  },
  {
   "cell_type": "code",
   "execution_count": 8,
   "metadata": {},
   "outputs": [
    {
     "data": {
      "application/vnd.jupyter.widget-view+json": {
       "model_id": "39c3246a15454dee9fc2ad33aac57bd5",
       "version_major": 2,
       "version_minor": 0
      },
      "text/plain": [
       "interactive(children=(Dropdown(description='column', options=('author_percentage', 'comment_percentage'), valu…"
      ]
     },
     "metadata": {},
     "output_type": "display_data"
    }
   ],
   "source": [
    "raw_right_comments_per_sub = copy.deepcopy(raw_comments_per_sub)\n",
    "\n",
    "for sub, sub_author_tuple in result_right.items():\n",
    "    if type(sub_author_tuple) is not list or sub == \"all\":\n",
    "        continue\n",
    "    raw_right_comments_per_sub[\"subreddit\"].append(sub)\n",
    "    raw_right_comments_per_sub[\"author_count\"].append(sub_author_tuple[0])\n",
    "    raw_right_comments_per_sub[\"comment_count\"].append(sub_author_tuple[1])\n",
    "    raw_right_comments_per_sub[\"author_percentage\"].append(float(\"{:.2f}\".format(sub_author_tuple[0] / total_right_author_count * 100)))\n",
    "    raw_right_comments_per_sub[\"comment_percentage\"].append(float(\"{:.2f}\".format(sub_author_tuple[1] / total_right_comment_count * 100)))\n",
    "\n",
    "columns = ['subreddit', 'author_percentage', 'comment_percentage', 'author_count', 'comment_count']\n",
    "right_comments_per_sub = pandas.DataFrame(\n",
    "    raw_right_comments_per_sub,\n",
    "    columns=columns\n",
    ")\n",
    "\n",
    "columns = ['author_percentage', 'comment_percentage']\n",
    "@interact\n",
    "def sort(column=columns, order={\"ascending\": True, \"descending\": False}, x=(5, 50, 1)):\n",
    "    right = right_comments_per_sub.sort_values(\n",
    "        ascending=order,\n",
    "        by=column\n",
    "    ).head(x).reset_index(drop=True)\n",
    "    \n",
    "    return right"
   ]
  },
  {
   "cell_type": "code",
   "execution_count": 9,
   "metadata": {},
   "outputs": [
    {
     "data": {
      "application/vnd.jupyter.widget-view+json": {
       "model_id": "5a0d48c6be854151b798da060d10fea6",
       "version_major": 2,
       "version_minor": 0
      },
      "text/plain": [
       "interactive(children=(Dropdown(description='column', options=('author_percentage', 'comment_percentage'), valu…"
      ]
     },
     "metadata": {},
     "output_type": "display_data"
    }
   ],
   "source": [
    "columns = ['author_percentage', 'comment_percentage']\n",
    "@interact\n",
    "def sort(column=columns, order={\"ascending\": True, \"descending\": False}, x=(5, 50, 1)):\n",
    "    left = left_comments_per_sub.sort_values(\n",
    "        ascending=order,\n",
    "        by=column\n",
    "    ).head(x).reset_index(drop=True)\n",
    "    del left[\"author_count\"]\n",
    "    del left[\"comment_count\"]\n",
    "    left.rename(\n",
    "        {\n",
    "            'subreddit': 'left sub',\n",
    "            'author_percentage': 'left author',\n",
    "            'comment_percentage': 'left comment'\n",
    "        }, axis=1, inplace=True)\n",
    "\n",
    "\n",
    "    right = right_comments_per_sub.sort_values(\n",
    "        ascending=order,\n",
    "        by=column\n",
    "    ).head(x).reset_index(drop=True)\n",
    "    del right[\"author_count\"]\n",
    "    del right[\"comment_count\"]\n",
    "    right.rename(\n",
    "        {\n",
    "            'subreddit': 'right sub',\n",
    "            'author_percentage': 'right author',\n",
    "            'comment_percentage': 'right comment'\n",
    "        }, axis=1, inplace=True)\n",
    "    \n",
    "    return pandas.concat([left, right], axis=1)    "
   ]
  },
  {
   "cell_type": "code",
   "execution_count": null,
   "metadata": {},
   "outputs": [],
   "source": []
  },
  {
   "cell_type": "code",
   "execution_count": 10,
   "metadata": {},
   "outputs": [
    {
     "name": "stdout",
     "output_type": "stream",
     "text": [
      "total count: 37386\n",
      "right count: 14881\n",
      "left count: 37014\n",
      "only right count: 372\n",
      "only left count: 22505\n",
      "intersection: 14509\n"
     ]
    },
    {
     "data": {
      "image/png": "[encoded data removed]",
      "text/plain": [
       "<Figure size 1200x800 with 1 Axes>"
      ]
     },
     "metadata": {},
     "output_type": "display_data"
    }
   ],
   "source": [
    "from matplotlib_venn import venn2, venn2_circles, venn2_unweighted\n",
    "from matplotlib_venn import venn3, venn3_circles\n",
    "from matplotlib import pyplot as plt\n",
    "\n",
    "all_unique_subs = pandas.concat([left_comments_per_sub, right_comments_per_sub], ignore_index=True).subreddit.unique()\n",
    "right_unique_subs = right_comments_per_sub.subreddit.unique()\n",
    "left_unique_subs = left_comments_per_sub.subreddit.unique()\n",
    "\n",
    "total_sub_count = len(all_unique_subs)\n",
    "right_sub_count = len(right_unique_subs)\n",
    "left_sub_count = len(left_unique_subs)\n",
    "\n",
    "print(f\"total count: {total_sub_count}\")\n",
    "print(f\"right count: {right_sub_count}\")\n",
    "print(f\"left count: {left_sub_count}\")\n",
    "\n",
    "only_right = total_sub_count - left_sub_count\n",
    "only_left = total_sub_count - right_sub_count\n",
    "\n",
    "print(f\"only right count: {only_right}\")\n",
    "print(f\"only left count: {only_left}\")\n",
    "\n",
    "intersection_right_left = (total_sub_count - only_right) - only_left\n",
    "\n",
    "print(f\"intersection: {intersection_right_left}\")\n",
    "\n",
    "plt.figure(figsize=(12,8), dpi= 100, facecolor='w', edgecolor='k')\n",
    "plt.title(\"Subreddits used by right or left\");\n",
    "venn2(\n",
    "    subsets = (\n",
    "        only_left,\n",
    "        only_right,\n",
    "        intersection_right_left\n",
    "    ),\n",
    "    set_labels = (\n",
    "        'Subs used by left',\n",
    "        'Subs used by right'\n",
    "    ),\n",
    "    set_colors=(\n",
    "        'blue',\n",
    "        'red'\n",
    "    )\n",
    ")\n",
    "venn2_circles(subsets = (only_left, only_right, intersection_right_left));\n",
    "\n"
   ]
  },
  {
   "cell_type": "code",
   "execution_count": null,
   "metadata": {},
   "outputs": [],
   "source": []
  }
 ],
 "metadata": {
  "kernelspec": {
   "display_name": "Python 3",
   "language": "python",
   "name": "python3"
  },
  "language_info": {
   "codemirror_mode": {
    "name": "ipython",
    "version": 3
   },
   "file_extension": ".py",
   "mimetype": "text/x-python",
   "name": "python",
   "nbconvert_exporter": "python",
   "pygments_lexer": "ipython3",
   "version": "3.8.7"
  }
 },
 "nbformat": 4,
 "nbformat_minor": 4
}
